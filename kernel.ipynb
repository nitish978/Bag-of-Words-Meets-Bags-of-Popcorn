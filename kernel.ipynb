{
  "cells": [
    {
      "metadata": {
        "_uuid": "8f2839f25d086af736a60e9eeb907d3b93b6e0e5",
        "_cell_guid": "b1076dfc-b9ad-4769-8c92-a6c4dae69d19",
        "trusted": true
      },
      "cell_type": "code",
      "source": "# This Python 3 environment comes with many helpful analytics libraries installed\n# It is defined by the kaggle/python docker image: https://github.com/kaggle/docker-python\n# For example, here's several helpful packages to load in \n\nimport numpy as np # linear algebra\nimport pandas as pd # data processing, CSV file I/O (e.g. pd.read_csv)\n\n# Input data files are available in the \"../input/\" directory.\n# For example, running this (by clicking run or pressing Shift+Enter) will list the files in the input directory\n\nimport os\nprint(os.listdir(\"../input\"))\n\n# Any results you write to the current directory are saved as output.\n",
      "execution_count": null,
      "outputs": []
    },
    {
      "metadata": {
        "_cell_guid": "79c7e3d0-c299-4dcb-8224-4455121ee9b0",
        "_uuid": "d629ff2d2480ee46fbb7e2d37f6b5fab8052498a",
        "trusted": true
      },
      "cell_type": "code",
      "source": "with open('../input/labeledTrainData.tsv','rb') as fin:\n    df= pd.read_csv(fin, delimiter='\\t')",
      "execution_count": null,
      "outputs": []
    },
    {
      "metadata": {
        "trusted": true,
        "_uuid": "bff301b41202b29365d034c09ec185ac89ef4ee4"
      },
      "cell_type": "code",
      "source": "df.head()\ndf=df.dropna(how='any')",
      "execution_count": null,
      "outputs": []
    },
    {
      "metadata": {
        "trusted": true,
        "_uuid": "058a25319981b339c8966348d2d8e21f13f4259a"
      },
      "cell_type": "code",
      "source": "import nltk\nimport random\nfrom nltk.corpus import movie_reviews,stopwords\nfrom nltk.stem import PorterStemmer",
      "execution_count": null,
      "outputs": []
    },
    {
      "metadata": {
        "trusted": true,
        "_uuid": "68aa34ab26fa9af448406124de1e7a13b5ee63e8"
      },
      "cell_type": "code",
      "source": "text=np.array(df.review)\nps = PorterStemmer()",
      "execution_count": null,
      "outputs": []
    },
    {
      "metadata": {
        "trusted": true,
        "_uuid": "be43a947f25a1afaeaed5bf57b931888efea9b4d"
      },
      "cell_type": "code",
      "source": "words=[]\nstop=stopwords.words('english')\nrep=[\"'\",\"/\",\".\",\"#\",\",\",\"<br>\"]\nfor i in range(len(text)):\n    for x in text[i].split():\n        x=x.lower()\n        for y in rep:\n            x=x.replace(y,\"\")\n        if len(x)>3 and x not in stop:\n            words.append(ps.stem(x))\n    ",
      "execution_count": null,
      "outputs": []
    },
    {
      "metadata": {
        "trusted": true,
        "_uuid": "b5e73493e8c364dae2e00c5432530f3df2a50ca4",
        "scrolled": true
      },
      "cell_type": "code",
      "source": "len(words)",
      "execution_count": null,
      "outputs": []
    },
    {
      "metadata": {
        "trusted": true,
        "_uuid": "d170d9ead583c8d42e515e0ada9ef2a660946c49"
      },
      "cell_type": "code",
      "source": "def refinesentance(sent):\n    wordd=[]\n    sent=sent.lower()\n    for x in sent.split():\n        for y in rep:\n            if y in x:\n                x=x.replace(y,\"\")\n        wordd.append(x)\n    return wordd    \n        ",
      "execution_count": null,
      "outputs": []
    },
    {
      "metadata": {
        "trusted": true,
        "_uuid": "a4c1cf0126bd534410be6191a74da46d9a92f71f"
      },
      "cell_type": "code",
      "source": "words_fd=nltk.FreqDist(words)",
      "execution_count": null,
      "outputs": []
    },
    {
      "metadata": {
        "trusted": true,
        "_uuid": "5f772de4e5f1d8aba7c9e0a00e5b538609c4ee57"
      },
      "cell_type": "code",
      "source": "#words_fd.most_common(20)",
      "execution_count": null,
      "outputs": []
    },
    {
      "metadata": {
        "trusted": true,
        "_uuid": "118276835cc270d66eb92adb8f94c16154d75bfe"
      },
      "cell_type": "code",
      "source": "word_features=list(words_fd.keys())[:10000]",
      "execution_count": null,
      "outputs": []
    },
    {
      "metadata": {
        "trusted": true,
        "_uuid": "2a2969d9ce40cf60a4ae321895c511ccbfeff80d"
      },
      "cell_type": "code",
      "source": "#word_features[0:100]",
      "execution_count": null,
      "outputs": []
    },
    {
      "metadata": {
        "trusted": true,
        "_uuid": "5d1cc01e4fc94ad963ee99ac515ec61b7b628f78"
      },
      "cell_type": "code",
      "source": "documents=[]\nlabels=df.sentiment\nfor i in range(len(text)):\n    n_words=refinesentance(text[i])\n    documents.append([n_words,labels[i]])",
      "execution_count": null,
      "outputs": []
    },
    {
      "metadata": {
        "trusted": true,
        "_uuid": "497686b196859b84addb9a59246dbb21d43aaeb0",
        "scrolled": false
      },
      "cell_type": "code",
      "source": "len(documents)",
      "execution_count": null,
      "outputs": []
    },
    {
      "metadata": {
        "trusted": true,
        "_uuid": "435998601f546b0945b460c2d5f79cfe5ca0571a"
      },
      "cell_type": "code",
      "source": "len(documents[9][0])",
      "execution_count": null,
      "outputs": []
    },
    {
      "metadata": {
        "trusted": true,
        "_uuid": "731e791d574991601d1401a3cb7484736dcf00da"
      },
      "cell_type": "code",
      "source": "random.shuffle(documents)",
      "execution_count": null,
      "outputs": []
    },
    {
      "metadata": {
        "trusted": true,
        "_uuid": "0167fe3a1e96ee26ed60aa95152bf94868c88343"
      },
      "cell_type": "code",
      "source": "featuresets=[]\nfor (review,category) in documents:\n    words=list(review)\n    features={}\n    \n    for w in word_features:\n        features[w]=w in words\n    featuresets.append([features,category])\nlen(featuresets)",
      "execution_count": 85,
      "outputs": [
        {
          "output_type": "execute_result",
          "execution_count": 85,
          "data": {
            "text/plain": "25000"
          },
          "metadata": {}
        }
      ]
    },
    {
      "metadata": {
        "trusted": true,
        "_uuid": "4e241fc928c3d4d5a74bef47f420562d6a922cf7"
      },
      "cell_type": "code",
      "source": "training_set=featuresets[0:20000]\ntesting_set=featuresets[20000:]",
      "execution_count": 86,
      "outputs": []
    },
    {
      "metadata": {
        "trusted": true,
        "_uuid": "f1bdb639205fa8725a0eadadf3a05448206840a4"
      },
      "cell_type": "code",
      "source": "clf=nltk.NaiveBayesClassifier.train(training_set)",
      "execution_count": null,
      "outputs": []
    },
    {
      "metadata": {
        "trusted": true,
        "_uuid": "2e91a4447b0069a96d0328c18faeefd015484bb1"
      },
      "cell_type": "code",
      "source": "nltk.classify.accuracy(clf,testing_set)",
      "execution_count": null,
      "outputs": []
    },
    {
      "metadata": {
        "trusted": true,
        "_uuid": "626cc4abd5c53ca33fa97d1aa97b2c1e1dc1d9bc"
      },
      "cell_type": "code",
      "source": "",
      "execution_count": null,
      "outputs": []
    },
    {
      "metadata": {
        "trusted": true,
        "_uuid": "003bdba5c9b2e56e3cd544cd7330f6932cb459d3"
      },
      "cell_type": "code",
      "source": "",
      "execution_count": null,
      "outputs": []
    },
    {
      "metadata": {
        "trusted": true,
        "_uuid": "99221ff4cddc3c752bbb08033e50c2306a1d57ef"
      },
      "cell_type": "code",
      "source": "",
      "execution_count": null,
      "outputs": []
    },
    {
      "metadata": {
        "trusted": true,
        "_uuid": "23ad8ba007999bf2674fe5de50d1aee0318efa6d"
      },
      "cell_type": "code",
      "source": "",
      "execution_count": null,
      "outputs": []
    },
    {
      "metadata": {
        "trusted": true,
        "_uuid": "53878670910e0f6a8f79d4e304a4534571cafe9a"
      },
      "cell_type": "code",
      "source": "",
      "execution_count": null,
      "outputs": []
    },
    {
      "metadata": {
        "trusted": true,
        "_uuid": "d30c17752e40792b994e3dabdbbf2aac49402cdb"
      },
      "cell_type": "code",
      "source": "",
      "execution_count": null,
      "outputs": []
    },
    {
      "metadata": {
        "trusted": true,
        "_uuid": "da100217928cb206398ed84b5b6afc91ab176c02"
      },
      "cell_type": "code",
      "source": "",
      "execution_count": null,
      "outputs": []
    },
    {
      "metadata": {
        "trusted": true,
        "_uuid": "3e686edc4c1fcefd937e8af3ddd389f0bc8bdf4d"
      },
      "cell_type": "code",
      "source": "",
      "execution_count": null,
      "outputs": []
    }
  ],
  "metadata": {
    "kernelspec": {
      "display_name": "Python 3",
      "language": "python",
      "name": "python3"
    },
    "language_info": {
      "name": "python",
      "version": "3.6.6",
      "mimetype": "text/x-python",
      "codemirror_mode": {
        "name": "ipython",
        "version": 3
      },
      "pygments_lexer": "ipython3",
      "nbconvert_exporter": "python",
      "file_extension": ".py"
    }
  },
  "nbformat": 4,
  "nbformat_minor": 1
}